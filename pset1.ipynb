{
 "cells": [
  {
   "cell_type": "markdown",
   "metadata": {},
   "source": [
    "Problem Set 1: Text Classification\n",
    "=============\n",
    "\n",
    "In this problem set, you will build a system for automatically classifying reddit comments by subreddit. You will:\n",
    "\n",
    "- Do some basic text processing, tokenizing your input and converting it into a bag-of-words representation\n",
    "- Build a machine learning classifier based on the generative model, using Naive Bayes\n",
    "- Evaluate your classifiers and examine what they have learned\n",
    "- Build a machine learning classifier based on the discriminative model, using Perceptron\n",
    "- Build more stable discriminative classifier, using the averaged perceptron\n",
    "- Build the logistic regression classifier (See instructions within the section)\n",
    "- Implement techniques to improve your classifier"
   ]
  },
  {
   "cell_type": "markdown",
   "metadata": {},
   "source": [
    "# 0. Setup\n",
    "\n",
    "In order to develop this assignment, you will need the following libraries. Many of these are part of [anaconda](https://www.continuum.io/downloads), so a good starting point would be to install that.\n",
    "\n",
    "- [python 2.7](https://www.python.org/downloads/release/python-2710/) (and not Python 3, although if somebody wants to try that and tell us what goes wrong, that would be appreciated...)\n",
    "- [jupyter notebook](http://jupyter.readthedocs.org/en/latest/install.html)\n",
    "- [scipy](http://www.scipy.org/install.html)\n",
    "- numpy (This will come if you install scipy like above, but if not install separately)\n",
    "- [nltk](http://www.nltk.org/install.html) (tested on NLTK 3.0.4)\n",
    "- [matplotlib](http://matplotlib.org/users/installing.html)\n",
    "- [nosetests](https://nose.readthedocs.org/en/latest/)\n",
    "- [pandas](http://pandas.pydata.org/) Dataframes\n",
    "\n",
    "Here is some help on installing packages in python: https://packaging.python.org/installing/\n",
    "\n",
    "I generally use ```pip --user``` for everything."
   ]
  },
  {
   "cell_type": "markdown",
   "metadata": {},
   "source": [
    "## About this assignment\n",
    "\n",
    "- This is a Jupyter notebook. You can execute cell blocks by pressing control-enter.\n",
    "- Most of your coding will be in the python source files in the directory ```gtnlplib```.\n",
    "- **To submit this assignment, run the script ```make-submission.sh```, and submit the tarball ```pset1-submission.tgz``` on T-square.**\n",
    "\n",
    "Grading will be mostly based on automated unit testing.\n",
    "\n",
    "- The directory ```tests``` contains unit tests that are very similar to the tests that will be used to grade your assignment --- but not the same! \n",
    "- You should run these tests as you work on the assignment to see that you're on the right track. If you pass them in a non-adversarial way (i.e., you didn't write functions that target these tests directly), you will pass the tests that we use for grading. \n",
    "- Parts 1 and 2 are the foundation for the rest of the assignment. Don't even try to work on the later parts of the assignment until your code passes all tests for parts 1 and 2.\n",
    "- The same is largely true within each part: for example, do not move on to deliverable 4.2 until your code passes the test for deliverable 4.1.\n",
    "- You are free to look at the source code of the unit tests -- though most of the relevant code is also here in this notebook. Learn more about running unit tests at http://pythontesting.net/framework/nose/nose-introduction/\n",
    "- You may want to add more tests, but that is completely optional.  "
   ]
  },
  {
   "cell_type": "markdown",
   "metadata": {},
   "source": [
    "# 1. Preprocessing\n",
    "\n",
    "Total: 1 point."
   ]
  },
  {
   "cell_type": "code",
   "execution_count": 200,
   "metadata": {
    "collapsed": true
   },
   "outputs": [],
   "source": [
    "import pandas as pd"
   ]
  },
  {
   "cell_type": "code",
   "execution_count": 2,
   "metadata": {
    "collapsed": false
   },
   "outputs": [],
   "source": [
    "df_tr = pd.read_csv('reddit-train.csv',encoding='utf-8') # read the training data into a data frame\n",
    "df_dv = pd.read_csv('reddit-dev.csv',encoding='utf-8') # read the dev data into a data frame"
   ]
  },
  {
   "cell_type": "markdown",
   "metadata": {},
   "source": [
    "A dataframe is a structured representation of your data. You can preview your dataframes using ```head()```"
   ]
  },
  {
   "cell_type": "code",
   "execution_count": 3,
   "metadata": {
    "collapsed": false
   },
   "outputs": [
    {
     "data": {
      "text/html": [
       "<div>\n",
       "<table border=\"1\" class=\"dataframe\">\n",
       "  <thead>\n",
       "    <tr style=\"text-align: right;\">\n",
       "      <th></th>\n",
       "      <th>subreddit</th>\n",
       "      <th>text</th>\n",
       "    </tr>\n",
       "  </thead>\n",
       "  <tbody>\n",
       "    <tr>\n",
       "      <th>0</th>\n",
       "      <td>science</td>\n",
       "      <td>Why don't you bother instead and respond prope...</td>\n",
       "    </tr>\n",
       "    <tr>\n",
       "      <th>1</th>\n",
       "      <td>iama</td>\n",
       "      <td>AAIA's ACES is the database standard (http://w...</td>\n",
       "    </tr>\n",
       "    <tr>\n",
       "      <th>2</th>\n",
       "      <td>iama</td>\n",
       "      <td>So many.  I needed to perform a maintenance ru...</td>\n",
       "    </tr>\n",
       "    <tr>\n",
       "      <th>3</th>\n",
       "      <td>worldnews</td>\n",
       "      <td>Ukraine used to be part of Russia in the Sovie...</td>\n",
       "    </tr>\n",
       "    <tr>\n",
       "      <th>4</th>\n",
       "      <td>worldnews</td>\n",
       "      <td>This wiki article goes into how contentious th...</td>\n",
       "    </tr>\n",
       "  </tbody>\n",
       "</table>\n",
       "</div>"
      ],
      "text/plain": [
       "   subreddit                                               text\n",
       "0    science  Why don't you bother instead and respond prope...\n",
       "1       iama  AAIA's ACES is the database standard (http://w...\n",
       "2       iama  So many.  I needed to perform a maintenance ru...\n",
       "3  worldnews  Ukraine used to be part of Russia in the Sovie...\n",
       "4  worldnews  This wiki article goes into how contentious th..."
      ]
     },
     "execution_count": 3,
     "metadata": {},
     "output_type": "execute_result"
    }
   ],
   "source": [
    "df_tr.head()"
   ]
  },
  {
   "cell_type": "markdown",
   "metadata": {},
   "source": [
    "Your first task is to convert the text to a bag-of-words representation. There are three steps:\n",
    "\n",
    "- Break each input into sentences\n",
    "- Break each sentence into word \"tokens\"\n",
    "- Downcase each token, and add it to a Counter\n",
    "\n",
    "You should use NLTK to complete the tokenization step, and collections.Counter for the bag of words representation. For more about NLTK tokenization, see http://www.nltk.org/book/ch03.html\n",
    "\n",
    "**Deliverable 1.1** Complete the function ```gtnlplib.preproc.tokenize_and_downcase```. (0.5 points)"
   ]
  },
  {
   "cell_type": "code",
   "execution_count": 4,
   "metadata": {
    "collapsed": false
   },
   "outputs": [],
   "source": [
    "from gtnlplib import preproc\n",
    "reload(preproc); #terminal semicolon suppresses output\n",
    "\n",
    "# when you edit gtnlplib/preproc.py, you will need to reload it into the notebook, using the line above"
   ]
  },
  {
   "cell_type": "code",
   "execution_count": 5,
   "metadata": {
    "collapsed": false
   },
   "outputs": [],
   "source": [
    "# this will not work until you implement it\n",
    "y_tr,x_tr = preproc.read_data('reddit-train.csv', #filename\n",
    "                                       'subreddit', #label field\n",
    "                                       preprocessor=preproc.tokenize_and_downcase) #your preprocessor"
   ]
  },
  {
   "cell_type": "code",
   "execution_count": 6,
   "metadata": {
    "collapsed": false,
    "scrolled": true
   },
   "outputs": [],
   "source": [
    "y_dv,x_dv = preproc.read_data('reddit-dev.csv', #filename\n",
    "                                       'subreddit', #label field\n",
    "                                       preprocessor=preproc.tokenize_and_downcase) #your preprocessor\n",
    "y_te,x_te = preproc.read_data('reddit-test.csv', #filename\n",
    "                                       'subreddit', #label field\n",
    "                                       preprocessor=preproc.tokenize_and_downcase) #your preprocessor"
   ]
  },
  {
   "cell_type": "markdown",
   "metadata": {},
   "source": [
    "- Each element in the list ```x_tr``` is a counter, which corresponds to a bag of words.\n",
    "- Each element in the list ```y_tr``` is a string, corresponding to a label."
   ]
  },
  {
   "cell_type": "code",
   "execution_count": 7,
   "metadata": {
    "collapsed": false
   },
   "outputs": [
    {
     "name": "stdout",
     "output_type": "stream",
     "text": [
      "ORIGINAL TEXT:  I saw an article recently stating that there was a link between angiotensin converting enzymes and Alzheimer's. It said that ACE was partially responsible for the break down of the protein fibers and plaques that form in Alzheimer's. To your knowledge, is there any truth to this and if so, is there a correlation between the prevalence of Alzheimer's and the use of ACE inhibitors in the last few decades?\n",
      "\n",
      "Thank you for the work that you do! I am glad there are much smarter people than I working on research for these cognitive issues. \n",
      "\n",
      "\n",
      "EDIT: I'm really sad I missed this AMA. \n",
      "\n",
      "BAG OF WORDS:  Counter({u'the': 6, u'i': 5, u'and': 4, u'there': 4, u'.': 4, u'that': 4, u'alzheimer': 3, u'for': 3, u'of': 3, u\"'s\": 3, u'this': 2, u'is': 2, u'in': 2, u',': 2, u'to': 2, u'between': 2, u'you': 2, u'was': 2, u'a': 2, u'ace': 2, u'responsible': 1, u'few': 1, u'prevalence': 1, u'edit': 1, u'am': 1, u'it': 1, u'an': 1, u'down': 1, u'really': 1, u'ama': 1, u'are': 1, u'research': 1, u'converting': 1, u'protein': 1, u'inhibitors': 1, u'saw': 1, u'your': 1, u'issues': 1, u'if': 1, u'!': 1, u'people': 1, u'use': 1, u'said': 1, u'knowledge': 1, u'angiotensin': 1, u'fibers': 1, u'plaques': 1, u'much': 1, u':': 1, u'?': 1, u'missed': 1, u'do': 1, u'working': 1, u'recently': 1, u'cognitive': 1, u'form': 1, u'any': 1, u'smarter': 1, u'break': 1, u'article': 1, u\"'m\": 1, u'sad': 1, u'than': 1, u'glad': 1, u'partially': 1, u'on': 1, u'last': 1, u'work': 1, u'enzymes': 1, u'so': 1, u'these': 1, u'truth': 1, u'correlation': 1, u'thank': 1, u'link': 1, u'stating': 1, u'decades': 1})\n"
     ]
    }
   ],
   "source": [
    "i = 100\n",
    "print 'ORIGINAL TEXT: ',df_tr.loc[i]['text']\n",
    "print \n",
    "print 'BAG OF WORDS: ',x_tr[i]"
   ]
  },
  {
   "cell_type": "markdown",
   "metadata": {},
   "source": [
    "You should now be able to pass the first test, ```test_preproc_d1_1```. \n",
    "Try this by running the following code on the command line:\n",
    "\n",
    "```nosetests -v tests/test_pset1_preproc.py```\n",
    "\n",
    "Now let's aggregate these counts, by running the code block below."
   ]
  },
  {
   "cell_type": "code",
   "execution_count": 8,
   "metadata": {
    "collapsed": false
   },
   "outputs": [],
   "source": [
    "corpus_counts = preproc.get_corpus_counts(x_tr)"
   ]
  },
  {
   "cell_type": "markdown",
   "metadata": {},
   "source": [
    "This makes it possible to see the top K most common terms."
   ]
  },
  {
   "cell_type": "code",
   "execution_count": 9,
   "metadata": {
    "collapsed": false
   },
   "outputs": [
    {
     "data": {
      "text/plain": [
       "[(u'.', 22920),\n",
       " (u'the', 20303),\n",
       " (u',', 19036),\n",
       " (u'to', 13252),\n",
       " (u'and', 11552)]"
      ]
     },
     "execution_count": 9,
     "metadata": {},
     "output_type": "execute_result"
    }
   ],
   "source": [
    "corpus_counts.most_common(5)"
   ]
  },
  {
   "cell_type": "markdown",
   "metadata": {},
   "source": [
    "Word count distributions are said to follow [power law](https://en.wikipedia.org/wiki/Power_law) distributions. In practice, this means that a plot of the log-frequency against the log-rank is nearly linear. Let's see if this holds for our data."
   ]
  },
  {
   "cell_type": "code",
   "execution_count": 10,
   "metadata": {
    "collapsed": false
   },
   "outputs": [
    {
     "name": "stdout",
     "output_type": "stream",
     "text": [
      "1.5.0\n"
     ]
    }
   ],
   "source": [
    "# you need matplotlib version 1.4 or above\n",
    "import matplotlib.pyplot as plt\n",
    "import matplotlib\n",
    "print matplotlib.__version__\n",
    "%matplotlib inline"
   ]
  },
  {
   "cell_type": "code",
   "execution_count": 11,
   "metadata": {
    "collapsed": false
   },
   "outputs": [
    {
     "data": {
      "image/png": "[encoded data removed]",
      "text/plain": [
       "<matplotlib.figure.Figure at 0x1121a4210>"
      ]
     },
     "metadata": {},
     "output_type": "display_data"
    }
   ],
   "source": [
    "plt.loglog([val for word,val in corpus_counts.most_common(4000)])\n",
    "plt.xlabel('rank')\n",
    "plt.ylabel('frequency');"
   ]
  },
  {
   "cell_type": "markdown",
   "metadata": {},
   "source": [
    "**Deliverable 1.2** Now let's compute some statistics about the training and dev data.\n",
    "\n",
    "- Print the token/type ratio for the training data.\n",
    "  You will have to implement ```gtnlplib.preproc_metrics.get_token_type_ratio``` (0.1 points)\n",
    "\n",
    "- Print the number of types which appear exactly once in the training data.\n",
    "  You will have to implement ```gtnlplib.preproc_metrics.type_frequency``` (0.1 points)\n",
    "\n",
    "- Print the number of types that appear in the dev data but not the training data (hint: use [sets](https://docs.python.org/2/library/sets.html) for this)\n",
    "  You will have to implement ```gtnlplib.preproc_metrics.unseen_types``` (0.1 points)\n",
    "  \n",
    "(0.3 points)"
   ]
  },
  {
   "cell_type": "code",
   "execution_count": 12,
   "metadata": {
    "collapsed": false
   },
   "outputs": [],
   "source": [
    "from gtnlplib import preproc_metrics\n",
    "reload(preproc_metrics); #terminal semicolon suppresses output\n",
    "from gtnlplib.preproc_metrics import get_token_type_ratio,type_frequency,unseen_types"
   ]
  },
  {
   "cell_type": "code",
   "execution_count": 13,
   "metadata": {
    "collapsed": false
   },
   "outputs": [
    {
     "data": {
      "text/plain": [
       "19.67109394737792"
      ]
     },
     "execution_count": 13,
     "metadata": {},
     "output_type": "execute_result"
    }
   ],
   "source": [
    "get_token_type_ratio(corpus_counts)"
   ]
  },
  {
   "cell_type": "code",
   "execution_count": 14,
   "metadata": {
    "collapsed": false
   },
   "outputs": [
    {
     "name": "stdout",
     "output_type": "stream",
     "text": [
      "14134\n",
      "263\n"
     ]
    }
   ],
   "source": [
    "print type_frequency(corpus_counts,1)\n",
    "print type_frequency(corpus_counts,10)"
   ]
  },
  {
   "cell_type": "markdown",
   "metadata": {},
   "source": [
    "Words that appear exactly once are called [hapax-legomena](https://en.wikipedia.org/wiki/Hapax_legomenon).\n",
    "\n",
    "Now let's look at the dev data."
   ]
  },
  {
   "cell_type": "code",
   "execution_count": 15,
   "metadata": {
    "collapsed": false
   },
   "outputs": [
    {
     "name": "stdout",
     "output_type": "stream",
     "text": [
      "8.0507739212\n"
     ]
    }
   ],
   "source": [
    "y_dv,x_dv = preproc.read_data('reddit-dev.csv', #filename\n",
    "                                       'subreddit', #label field\n",
    "                                       preprocessor=preproc.tokenize_and_downcase) #your preprocessor\n",
    "corpus_counts_dv = preproc.get_corpus_counts(x_dv)\n",
    "print get_token_type_ratio(corpus_counts_dv)"
   ]
  },
  {
   "cell_type": "markdown",
   "metadata": {},
   "source": [
    "Finally, let's compute the number of word types in the dev data, which do not appear in the training data"
   ]
  },
  {
   "cell_type": "code",
   "execution_count": 16,
   "metadata": {
    "collapsed": false
   },
   "outputs": [
    {
     "data": {
      "text/plain": [
       "1737"
      ]
     },
     "execution_count": 16,
     "metadata": {},
     "output_type": "execute_result"
    }
   ],
   "source": [
    "unseen_types(corpus_counts,corpus_counts_dv)"
   ]
  },
  {
   "cell_type": "markdown",
   "metadata": {},
   "source": [
    "Again, you can test your code by running ```nosetests -v tests/test_pset1_preproc.py```"
   ]
  },
  {
   "cell_type": "markdown",
   "metadata": {},
   "source": [
    "**Deliverable 1.3** \n",
    "\n",
    "Why do you think the type-token ratio is lower for the dev data as compared to the training data?\n",
    "\n",
    "Yes the dev set is smaller; why does this impact the type-token ratio? (0.2 pts)\n",
    "\n",
    "*Please put your answer in the file gtnlplib/text-answers.md*"
   ]
  },
  {
   "cell_type": "markdown",
   "metadata": {},
   "source": [
    "## Pruning the vocabulary\n",
    "\n",
    "Now let's prune the vocabulary to words that have appeared more than ten times. \n",
    "\n",
    "Please run the following two code blocks."
   ]
  },
  {
   "cell_type": "code",
   "execution_count": 17,
   "metadata": {
    "collapsed": false
   },
   "outputs": [
    {
     "name": "stdout",
     "output_type": "stream",
     "text": [
      "3600\n",
      "86\n"
     ]
    }
   ],
   "source": [
    "vocab = [word for word,count in corpus_counts.iteritems() if count > 10]\n",
    "print len(vocab)\n",
    "print len(x_tr[0])"
   ]
  },
  {
   "cell_type": "markdown",
   "metadata": {},
   "source": [
    "This cutoff is chosen mainly for reasons of speed; in the bakeoff, you may want to have a larger vocabulary, assuming your classifiers are fast enough.\n",
    "\n",
    "Run the code below to prune the data to this vocabulary. It will take a minute or two to complete."
   ]
  },
  {
   "cell_type": "code",
   "execution_count": 18,
   "metadata": {
    "collapsed": false
   },
   "outputs": [],
   "source": [
    "x_tr = [{key:val for key,val in x_i.iteritems() if key in vocab} for x_i in x_tr]\n",
    "x_dv = [{key:val for key,val in x_i.iteritems() if key in vocab} for x_i in x_dv]\n",
    "x_te = [{key:val for key,val in x_i.iteritems() if key in vocab} for x_i in x_te]"
   ]
  },
  {
   "cell_type": "code",
   "execution_count": 19,
   "metadata": {
    "collapsed": false
   },
   "outputs": [
    {
     "name": "stdout",
     "output_type": "stream",
     "text": [
      "68\n"
     ]
    }
   ],
   "source": [
    "print len(x_tr[0])"
   ]
  },
  {
   "cell_type": "markdown",
   "metadata": {},
   "source": [
    "# 2. Linear classification\n",
    "\n",
    "Now you'll implement the linear classification rule, $\\hat{y} = \\text{argmax}_y \\theta^{\\top} f(x,y)$.\n",
    "\n",
    "You will use these functions in all classifiers in this assignment.\n",
    "\n",
    "Total: 1 point."
   ]
  },
  {
   "cell_type": "code",
   "execution_count": 226,
   "metadata": {
    "collapsed": false
   },
   "outputs": [],
   "source": [
    "from gtnlplib import clf_base\n",
    "reload(clf_base)\n",
    "\n",
    "from gtnlplib import constants\n",
    "reload(constants);"
   ]
  },
  {
   "cell_type": "markdown",
   "metadata": {},
   "source": [
    "**Deliverable 2.1** \n",
    "\n",
    "Recall from class and the reading that the feature function vector $f(x,y)$ can be viewed as a dict, in which the values are counts, and the keys are tuples $(y,x_j)$, where $y$ is a label and $x_j$ is a base feature.\n",
    "\n",
    "Implement the function ```make_feature_vector``` in ```clf_base.py```. Desired output is shown below:\n",
    "\n",
    "Note that you must also include the offset feature, ```gtnlplib.constants.OFFSET```.\n",
    "\n",
    "(0.2 points)"
   ]
  },
  {
   "cell_type": "code",
   "execution_count": 227,
   "metadata": {
    "collapsed": false
   },
   "outputs": [],
   "source": [
    "fv = clf_base.make_feature_vector({'test':1,'case':2},'iama')"
   ]
  },
  {
   "cell_type": "code",
   "execution_count": 228,
   "metadata": {
    "collapsed": false
   },
   "outputs": [
    {
     "name": "stdout",
     "output_type": "stream",
     "text": [
      "{('iama', '**OFFSET**'): 1, ('iama', 'case'): 2, ('iama', 'test'): 1}\n"
     ]
    }
   ],
   "source": [
    "print fv"
   ]
  },
  {
   "cell_type": "markdown",
   "metadata": {},
   "source": [
    "Let's compute the entire set of labels."
   ]
  },
  {
   "cell_type": "code",
   "execution_count": 229,
   "metadata": {
    "collapsed": false
   },
   "outputs": [
    {
     "name": "stdout",
     "output_type": "stream",
     "text": [
      "set([u'worldnews', u'science', u'askreddit', u'iama', u'todayilearned'])\n"
     ]
    }
   ],
   "source": [
    "labels = set(y_tr) #figure out all possible labels\n",
    "print labels"
   ]
  },
  {
   "cell_type": "markdown",
   "metadata": {},
   "source": [
    "**Deliverable 2.2**\n",
    "\n",
    "Now implement the prediction rule, $\\hat{y} = \\text{argmax}_y \\theta^{\\top} f(x,y)$.\n",
    "\n",
    "Specifically, implement the function ```predict``` in ```clf_base.py```. The output should be:\n",
    "\n",
    "- A predicted label\n",
    "- The scores of all labels\n",
    "\n",
    "This function will be called **a lot**, so try to make it fast. You don't need to do anything crazy, but avoid making your code do silly extra work.\n",
    "\n",
    "(0.4 points)\n",
    "\n",
    "You can test this function using these simple hand-crafted weights."
   ]
  },
  {
   "cell_type": "code",
   "execution_count": 230,
   "metadata": {
    "collapsed": true
   },
   "outputs": [],
   "source": [
    "from collections import defaultdict,Counter"
   ]
  },
  {
   "cell_type": "code",
   "execution_count": 231,
   "metadata": {
    "collapsed": false
   },
   "outputs": [],
   "source": [
    "# weight vectors must be defaultdicts\n",
    "theta_hand = defaultdict(float,\n",
    "                         {('worldnews','worldnews'):1.,\n",
    "                          ('worldnews','news'):.5,\n",
    "                          ('worldnews','world'):.5,\n",
    "                          ('science','science'):1.,\n",
    "                          ('askreddit','askreddit'):1.,\n",
    "                          ('askreddit','ask'):0.5,\n",
    "                          ('iama','iama'):1,\n",
    "                          ('todayilearned','til'):1.,\n",
    "                          ('todayilearned','todayilearned'):1.,\n",
    "                          ('iama',constants.OFFSET):0.1\n",
    "                         })"
   ]
  },
  {
   "cell_type": "code",
   "execution_count": 232,
   "metadata": {
    "collapsed": false
   },
   "outputs": [
    {
     "data": {
      "text/plain": [
       "(u'science',\n",
       " {u'askreddit': 0.0,\n",
       "  u'iama': 0.1,\n",
       "  u'science': 5.0,\n",
       "  u'todayilearned': 0.0,\n",
       "  u'worldnews': 0.0})"
      ]
     },
     "execution_count": 232,
     "metadata": {},
     "output_type": "execute_result"
    }
   ],
   "source": [
    "clf_base.predict(x_tr[5],theta_hand,labels)"
   ]
  },
  {
   "cell_type": "markdown",
   "metadata": {},
   "source": [
    "Now let's see how good these weights are, by evaluating on the dev set."
   ]
  },
  {
   "cell_type": "code",
   "execution_count": 233,
   "metadata": {
    "collapsed": true
   },
   "outputs": [],
   "source": [
    "from gtnlplib import evaluation\n",
    "reload(evaluation);"
   ]
  },
  {
   "cell_type": "code",
   "execution_count": 234,
   "metadata": {
    "collapsed": false
   },
   "outputs": [
    {
     "name": "stdout",
     "output_type": "stream",
     "text": [
      "0.394\n"
     ]
    }
   ],
   "source": [
    "# this applies your predict function to all the instances in ```x_dv```\n",
    "y_hat = clf_base.predict_all(x_dv,theta_hand,labels)\n",
    "#print \"y hat: \", y_hat\n",
    "print evaluation.acc(y_hat,y_dv)"
   ]
  },
  {
   "cell_type": "markdown",
   "metadata": {},
   "source": [
    "**Deliverable 2.3**\n",
    "\n",
    "Now modify ```theta_hand``` in ```gtnlplib/hand_weights.py``` to get accuracy above 41%\n",
    "\n",
    "You can look at the training set to see how best to do this.\n",
    "\n",
    "(0.4 points)"
   ]
  },
  {
   "cell_type": "code",
   "execution_count": 210,
   "metadata": {
    "collapsed": false
   },
   "outputs": [],
   "source": [
    "from gtnlplib import hand_weights\n",
    "reload(evaluation)\n",
    "reload(hand_weights);"
   ]
  },
  {
   "cell_type": "code",
   "execution_count": 211,
   "metadata": {
    "collapsed": false
   },
   "outputs": [
    {
     "name": "stdout",
     "output_type": "stream",
     "text": [
      "0.418\n"
     ]
    }
   ],
   "source": [
    "# currently showing the accuracy for my weights\n",
    "y_hat = clf_base.predict_all(x_dv,hand_weights.theta_hand,labels)\n",
    "#print hand_weights.theta_hand\n",
    "#print y_hat\n",
    "print evaluation.acc(y_hat,y_dv)"
   ]
  },
  {
   "cell_type": "code",
   "execution_count": 212,
   "metadata": {
    "collapsed": false
   },
   "outputs": [
    {
     "name": "stdout",
     "output_type": "stream",
     "text": [
      "0.418\n"
     ]
    }
   ],
   "source": [
    "# run this block to output predictions on the test set\n",
    "y_hat_te = clf_base.predict_all(x_te,hand_weights.theta_hand,labels)\n",
    "evaluation.write_predictions(y_hat_te,'hand-test.preds')\n",
    "print evaluation.acc(y_hat,y_dv)"
   ]
  },
  {
   "cell_type": "markdown",
   "metadata": {},
   "source": [
    "# 3. Naive Bayes\n",
    "\n",
    "You'll now implement a Naive Bayes classifier, as described in chapter 1 of the notes.\n",
    "\n",
    "Total: 2 points."
   ]
  },
  {
   "cell_type": "code",
   "execution_count": 131,
   "metadata": {
    "collapsed": true
   },
   "outputs": [],
   "source": [
    "from gtnlplib import naive_bayes\n",
    "reload(naive_bayes);"
   ]
  },
  {
   "cell_type": "markdown",
   "metadata": {},
   "source": [
    "**Deliverable 3.1** (warmup) implement ```get_corpus_counts``` in ```naive_bayes.py```. This function should compute the word counts for a given label.\n",
    "\n",
    "(.2 points)"
   ]
  },
  {
   "cell_type": "code",
   "execution_count": 132,
   "metadata": {
    "collapsed": false
   },
   "outputs": [
    {
     "name": "stdout",
     "output_type": "stream",
     "text": [
      "17.0\n",
      "255.0\n"
     ]
    }
   ],
   "source": [
    "iama_counts = naive_bayes.get_corpus_counts(x_tr,y_tr,unicode('iama'));\n",
    "print iama_counts['four']\n",
    "print iama_counts['am']"
   ]
  },
  {
   "cell_type": "markdown",
   "metadata": {},
   "source": [
    "**Deliverable 3.2** Now implement ```estimate_pxy``` in ```naive_bayes.py```. This function should compute the *smoothed* multinomial distribution $\\log P(x \\mid y)$ for a given label $y$.\n",
    "\n",
    "Hint: note that this function takes the vocabulary as an argument. You have to assign a probability even for words that do not appear in documents with label $y$, if they are in the vocabulary.\n",
    "\n",
    "You can use ```get_corpus_counts``` in this function if you want to, but you don't have to.\n",
    "\n",
    "(.5 points)"
   ]
  },
  {
   "cell_type": "code",
   "execution_count": 133,
   "metadata": {
    "collapsed": false
   },
   "outputs": [
    {
     "name": "stdout",
     "output_type": "stream",
     "text": [
      "3600\n"
     ]
    }
   ],
   "source": [
    "log_pxy = naive_bayes.estimate_pxy(x_tr,y_tr,unicode('iama'),0.1,vocab)\n",
    "print len(vocab)"
   ]
  },
  {
   "cell_type": "code",
   "execution_count": 134,
   "metadata": {
    "collapsed": true
   },
   "outputs": [],
   "source": [
    "import numpy as np"
   ]
  },
  {
   "cell_type": "markdown",
   "metadata": {},
   "source": [
    "Probabilities must sum to one!"
   ]
  },
  {
   "cell_type": "code",
   "execution_count": 135,
   "metadata": {
    "collapsed": false
   },
   "outputs": [
    {
     "data": {
      "text/plain": [
       "1.0000000000000018"
      ]
     },
     "execution_count": 135,
     "metadata": {},
     "output_type": "execute_result"
    }
   ],
   "source": [
    "sum(np.exp(log_pxy.values()))"
   ]
  },
  {
   "cell_type": "markdown",
   "metadata": {},
   "source": [
    "Let's look at the log-probabilities of the words from the hand-tuned weights"
   ]
  },
  {
   "cell_type": "code",
   "execution_count": 136,
   "metadata": {
    "collapsed": false
   },
   "outputs": [
    {
     "name": "stdout",
     "output_type": "stream",
     "text": [
      "{'todayilearned': 0.0, 'science': -8.5404041994449802, '**OFFSET**': 0.0, 'iama': 0.0, 'til': -11.412083824328992, 'worldnews': 0.0, 'askreddit': 0.0, 'news': -8.8920858547297215, 'ask': -7.7101941334790416, 'world': -7.3656964399724316}\n"
     ]
    }
   ],
   "source": [
    "print({word:log_pxy[word] for (_,word),weight in theta_hand.iteritems() if weight>0})"
   ]
  },
  {
   "cell_type": "markdown",
   "metadata": {},
   "source": [
    "**Deliverable 3.3** Now you are ready to implement ```estimate_nb``` in ```naive_bayes.py```.\n",
    "\n",
    "- The goal is that the score given by ```clf_base.predict``` is equal to the joint probability $P(x,y)$, as described in the notes.\n",
    "- Don't forget the offset feature, whose weights should be set to the prior $\\log P(y)$.\n",
    "- The log-probabilities for the offset feature should not be smoothed.\n",
    "- You can call the functions you have defined above, but you don't have to.\n",
    "\n",
    "(0.8 points)"
   ]
  },
  {
   "cell_type": "code",
   "execution_count": 137,
   "metadata": {
    "collapsed": false
   },
   "outputs": [],
   "source": [
    "theta_nb = naive_bayes.estimate_nb(x_tr,y_tr,0.1)"
   ]
  },
  {
   "cell_type": "code",
   "execution_count": 138,
   "metadata": {
    "collapsed": false
   },
   "outputs": [
    {
     "data": {
      "text/plain": [
       "(u'science',\n",
       " {u'askreddit': -1007.9847188388547,\n",
       "  u'iama': -975.84461062677099,\n",
       "  u'science': -949.40658879134503,\n",
       "  u'todayilearned': -976.50222647175656,\n",
       "  u'worldnews': -1004.6447250798952})"
      ]
     },
     "execution_count": 138,
     "metadata": {},
     "output_type": "execute_result"
    }
   ],
   "source": [
    "clf_base.predict(x_tr[55],theta_nb,labels)"
   ]
  },
  {
   "cell_type": "code",
   "execution_count": 139,
   "metadata": {
    "collapsed": false
   },
   "outputs": [
    {
     "data": {
      "text/plain": [
       "(u'science',\n",
       " {u'askreddit': -1078.6362701511371,\n",
       "  u'iama': -1040.900147459866,\n",
       "  u'science': -976.34200102283478,\n",
       "  u'todayilearned': -983.32655052451389,\n",
       "  u'worldnews': -1029.2493890460514})"
      ]
     },
     "execution_count": 139,
     "metadata": {},
     "output_type": "execute_result"
    }
   ],
   "source": [
    "clf_base.predict(x_dv[48],theta_nb,labels)"
   ]
  },
  {
   "cell_type": "code",
   "execution_count": 140,
   "metadata": {
    "collapsed": false
   },
   "outputs": [
    {
     "name": "stdout",
     "output_type": "stream",
     "text": [
      "0.728\n"
     ]
    }
   ],
   "source": [
    "y_hat = clf_base.predict_all(x_dv,theta_nb,labels)\n",
    "print evaluation.acc(y_hat,y_dv)"
   ]
  },
  {
   "cell_type": "code",
   "execution_count": 141,
   "metadata": {
    "collapsed": false
   },
   "outputs": [],
   "source": [
    "# execute this block to write predictions for the test set\n",
    "y_hat = clf_base.predict_all(x_te,theta_nb,labels)\n",
    "#print \"y_hat: \", y_hat\n",
    "evaluation.write_predictions(y_hat,'nb-test.preds')"
   ]
  },
  {
   "cell_type": "code",
   "execution_count": 142,
   "metadata": {
    "collapsed": true
   },
   "outputs": [],
   "source": [
    "y_hat_te = evaluation.read_predictions('nb-test.preds')"
   ]
  },
  {
   "cell_type": "code",
   "execution_count": 143,
   "metadata": {
    "collapsed": false
   },
   "outputs": [
    {
     "data": {
      "text/plain": [
       "0.0"
      ]
     },
     "execution_count": 143,
     "metadata": {},
     "output_type": "execute_result"
    }
   ],
   "source": [
    "evaluation.acc(y_hat_te,y_te)"
   ]
  },
  {
   "cell_type": "markdown",
   "metadata": {},
   "source": [
    "**Deliverable 3.4** Write a function in ```naive_bayes.py``` called ```find_best_smoother```, which finds the smoothing value that gives best performance on the dev data. \n",
    "\n",
    "Your function should trying at least the following values: [1e-3,1e-2,1e-1,1]. \n",
    "\n",
    "Then, using this smoothing value, run your Naive Bayes classifier on the test set, and output the results. (0.3 points)"
   ]
  },
  {
   "cell_type": "code",
   "execution_count": 144,
   "metadata": {
    "collapsed": false
   },
   "outputs": [
    {
     "name": "stdout",
     "output_type": "stream",
     "text": [
      "scores:  {1: 0.71999999999999997, 0.001: 0.72799999999999998, 0.1: 0.72799999999999998, 0.01: 0.73599999999999999}\n",
      "key:  0.01\n"
     ]
    }
   ],
   "source": [
    "best_smoother, scores = naive_bayes.find_best_smoother(x_tr,y_tr,x_dv,y_dv,[1e-3,1e-2,1e-1,1])"
   ]
  },
  {
   "cell_type": "markdown",
   "metadata": {},
   "source": [
    "Now let's load the test data. Note that the ```y_te``` labels are all meaningless."
   ]
  },
  {
   "cell_type": "code",
   "execution_count": 145,
   "metadata": {
    "collapsed": false
   },
   "outputs": [],
   "source": [
    "theta_nb = naive_bayes.estimate_nb(x_tr,y_tr,best_smoother)\n",
    "y_hat = clf_base.predict_all(x_te,theta_nb,labels)\n",
    "evaluation.write_predictions(y_hat,'nb-best-test.preds')"
   ]
  },
  {
   "cell_type": "code",
   "execution_count": 146,
   "metadata": {
    "collapsed": false
   },
   "outputs": [
    {
     "name": "stdout",
     "output_type": "stream",
     "text": [
      "0.0\n"
     ]
    }
   ],
   "source": [
    "y_hat = evaluation.read_predictions('nb-best-test.preds')\n",
    "print evaluation.acc(y_hat,y_te)"
   ]
  },
  {
   "cell_type": "markdown",
   "metadata": {},
   "source": [
    "**Deliverable 3.5** Run the code below to compare the learned weights using smoothing of $.001$ and $10.$\n",
    "\n",
    "Explain the resulting figure as best you can, in the text file ```text-answers.md```.\n",
    "\n",
    "(0.2 points)"
   ]
  },
  {
   "cell_type": "code",
   "execution_count": 488,
   "metadata": {
    "collapsed": false
   },
   "outputs": [],
   "source": [
    "theta_nb_001 = naive_bayes.estimate_nb(x_tr,y_tr,.001)\n",
    "theta_nb_10 = naive_bayes.estimate_nb(x_tr,y_tr,10.)"
   ]
  },
  {
   "cell_type": "code",
   "execution_count": 489,
   "metadata": {
    "collapsed": false
   },
   "outputs": [
    {
     "data": {
      "image/png": "[encoded data removed]",
      "text/plain": [
       "<matplotlib.figure.Figure at 0x1121e2dd0>"
      ]
     },
     "metadata": {},
     "output_type": "display_data"
    }
   ],
   "source": [
    "plt.scatter(theta_nb_001.values(),theta_nb_10.values());\n",
    "plt.axis('square');"
   ]
  },
  {
   "cell_type": "markdown",
   "metadata": {},
   "source": [
    "# 4. Perceptron \n",
    "\n",
    "Total: 2 points\n",
    "\n",
    "The perceptron update is,\n",
    "\n",
    "\\begin{align}\n",
    "\\hat{y} = & \\text{argmax}_y \\theta^\\top f(x,y)\\\\\n",
    "\\theta \\gets & \\theta + f(x,y) - f(x,\\hat{y})\n",
    "\\end{align}\n",
    "\n",
    "You will now implement this classifier, using the file ```gtnlplib/perceptron.py```"
   ]
  },
  {
   "cell_type": "code",
   "execution_count": 235,
   "metadata": {
    "collapsed": false
   },
   "outputs": [
    {
     "data": {
      "text/plain": [
       "<module 'gtnlplib.perceptron' from 'gtnlplib/perceptron.pyc'>"
      ]
     },
     "execution_count": 235,
     "metadata": {},
     "output_type": "execute_result"
    }
   ],
   "source": [
    "from gtnlplib import perceptron\n",
    "reload(perceptron)"
   ]
  },
  {
   "cell_type": "markdown",
   "metadata": {},
   "source": [
    "** Deliverable 4.1 **\n",
    "\n",
    "Implement the perceptron *update*, $f(x,y) - f(x,\\hat{y})$, in the function ```perceptron_update``` in ```perceptron.py```. (0.5 points)"
   ]
  },
  {
   "cell_type": "code",
   "execution_count": 236,
   "metadata": {
    "collapsed": true
   },
   "outputs": [],
   "source": [
    "theta_perc = hand_weights.theta_hand_original.copy() #let's start with the hand-set weights"
   ]
  },
  {
   "cell_type": "code",
   "execution_count": 237,
   "metadata": {
    "collapsed": false
   },
   "outputs": [],
   "source": [
    "# no update when the prediction is correct\n",
    "update = perceptron.perceptron_update(x_tr[110],y_tr[110],theta_perc,labels)\n"
   ]
  },
  {
   "cell_type": "code",
   "execution_count": 238,
   "metadata": {
    "collapsed": false
   },
   "outputs": [
    {
     "name": "stdout",
     "output_type": "stream",
     "text": [
      "defaultdict(<type 'float'>, {})\n"
     ]
    }
   ],
   "source": [
    "print update"
   ]
  },
  {
   "cell_type": "code",
   "execution_count": 239,
   "metadata": {
    "collapsed": false
   },
   "outputs": [
    {
     "name": "stdout",
     "output_type": "stream",
     "text": [
      "[((u'science', u'and'), 2.0), ((u'iama', u'200'), -1.0), ((u'iama', u'genes'), -3.0), ((u'iama', u'now'), -1.0), ((u'science', u'years'), 1.0)]\n",
      "146\n"
     ]
    }
   ],
   "source": [
    "# update when the prediction is incorrect\n",
    "i=20\n",
    "update =perceptron.perceptron_update(x_tr[i],y_tr[i],theta_perc,labels)\n",
    "print update.items()[:5]\n",
    "print len(update)"
   ]
  },
  {
   "cell_type": "markdown",
   "metadata": {},
   "source": [
    "** Deliverable 4b **\n",
    "\n",
    "Now implement the perceptron algorithm. Your implementation should take as inputs:\n",
    "\n",
    "- The training instances $x$\n",
    "- The training labels $y$\n",
    "- The number of iterations to train\n",
    "\n",
    "It should use your ```update``` function, and it should return:\n",
    "\n",
    "- weights $\\theta$\n",
    "- a list of the weights at each iteration\n",
    "\n",
    "Specifically, you should implement ```estimate_perceptron``` in ```perceptron.py``` (0.5 points)"
   ]
  },
  {
   "cell_type": "code",
   "execution_count": 240,
   "metadata": {
    "collapsed": false
   },
   "outputs": [],
   "source": [
    "reload(perceptron);"
   ]
  },
  {
   "cell_type": "code",
   "execution_count": 241,
   "metadata": {
    "collapsed": true
   },
   "outputs": [],
   "source": [
    "theta_perc,theta_perc_history = perceptron.estimate_perceptron(x_tr[:10],y_tr[:10],3)"
   ]
  },
  {
   "cell_type": "code",
   "execution_count": 242,
   "metadata": {
    "collapsed": false
   },
   "outputs": [
    {
     "name": "stdout",
     "output_type": "stream",
     "text": [
      "0.0\n",
      "4.0\n"
     ]
    }
   ],
   "source": [
    "print theta_perc[('science','its')]\n",
    "print theta_perc[('science','what')]"
   ]
  },
  {
   "cell_type": "markdown",
   "metadata": {},
   "source": [
    "I'm including the running time (on my lenovo X1 carbon laptop) for reference:"
   ]
  },
  {
   "cell_type": "code",
   "execution_count": 244,
   "metadata": {
    "collapsed": false
   },
   "outputs": [
    {
     "name": "stdout",
     "output_type": "stream",
     "text": [
      "1 loop, best of 3: 30.1 s per loop\n"
     ]
    }
   ],
   "source": [
    "%%timeit\n",
    "theta_perc,theta_perc_history = perceptron.estimate_perceptron(x_tr,y_tr,20)"
   ]
  },
  {
   "cell_type": "code",
   "execution_count": 245,
   "metadata": {
    "collapsed": false
   },
   "outputs": [],
   "source": [
    "theta_perc,theta_perc_history = perceptron.estimate_perceptron(x_tr,y_tr,50)"
   ]
  },
  {
   "cell_type": "code",
   "execution_count": 246,
   "metadata": {
    "collapsed": true
   },
   "outputs": [],
   "source": [
    "# run this to plot the accuracy over iterations\n",
    "def plot_accs(weight_history,x_tr=x_tr,y_tr=y_tr,x_dv=x_dv,y_dv=y_dv):\n",
    "    tr_accs = []\n",
    "    dv_accs = []\n",
    "    for theta in weight_history:\n",
    "        tr_accs.append(evaluation.acc(clf_base.predict_all(x_tr,theta,labels),y_tr))\n",
    "        dv_accs.append(evaluation.acc(clf_base.predict_all(x_dv,theta,labels),y_dv))\n",
    "    plt.plot(tr_accs,'--')\n",
    "    plt.plot(dv_accs)\n",
    "    plt.xlabel('iteration')\n",
    "    plt.ylabel('accuracy');\n",
    "    plt.legend(['training','dev'],loc='lower right');\n",
    "    return tr_accs,dv_accs"
   ]
  },
  {
   "cell_type": "code",
   "execution_count": 247,
   "metadata": {
    "collapsed": false
   },
   "outputs": [
    {
     "name": "stdout",
     "output_type": "stream",
     "text": [
      "0.646\n"
     ]
    }
   ],
   "source": [
    "y_hat = clf_base.predict_all(x_dv,theta_perc,labels)\n",
    "print evaluation.acc(y_hat,y_dv)"
   ]
  },
  {
   "cell_type": "code",
   "execution_count": 248,
   "metadata": {
    "collapsed": false
   },
   "outputs": [
    {
     "data": {
      "image/png": "[encoded data removed]",
      "text/plain": [
       "<matplotlib.figure.Figure at 0x114acf250>"
      ]
     },
     "metadata": {},
     "output_type": "display_data"
    }
   ],
   "source": [
    "plot_accs(theta_perc_history);"
   ]
  },
  {
   "cell_type": "code",
   "execution_count": 249,
   "metadata": {
    "collapsed": true
   },
   "outputs": [],
   "source": [
    "# execute this code to write the predictions on the dev and training data\n",
    "y_hat_dv = clf_base.predict_all(x_dv,theta_perc,labels)\n",
    "evaluation.write_predictions(y_hat_dv,'perc-dev.preds')\n",
    "y_hat_te = clf_base.predict_all(x_te,theta_perc,labels)\n",
    "evaluation.write_predictions(y_hat_te,'perc-test.preds')"
   ]
  },
  {
   "cell_type": "markdown",
   "metadata": {},
   "source": [
    "## Averaged Perceptron \n",
    "\n",
    "You will now implement the averaged perceptron, which often achieves better generalization than the standard perceptron. The basic idea, as described in the notes, is to average the weights across each update:\n",
    "\n",
    "\\begin{align}\n",
    "\\hat{y} \\gets & \\text{argmax}_y \\theta^{\\top}f(x,y)\\\\\n",
    "\\theta_t \\gets & f(x,y) - f(x,\\hat{y})\\\\\n",
    "m \\gets & m + \\theta_t\\\\\n",
    "\\overline{\\theta} \\gets & \\frac{m}{t}\n",
    "\\end{align}\n",
    "\n",
    "Note that during training, prediction is performed using the non-averaged weights, $\\theta$. The averaged weights are only returned at the end. They often give better generalization than the standard perceptron.\n",
    "\n",
    "However, it is too inefficient to repeatedly compute the sum $m + \\theta_t$. The reason is that we must perform an operation for every feature with non-zero weight. There are many more such features than there are non-zero features in any given example, $f(x_i, y)$. Therefore, this addition will dominate the computation.\n",
    "\n",
    "An efficient solution was pointed out by [Daume 2006](http://hal3.name/docs/daume06thesis.pdf). \n",
    "Let $\\delta_t$ indicate the update at time $t$.\n",
    "Assuming $\\theta^0 = 0$, \n",
    "\\begin{align*}\n",
    "\\theta^t = & \\theta^{t-1} + \\delta_t \\\\\n",
    "= & \\sum_{t' < t} \\delta_{t'}\n",
    "\\end{align*}\n",
    "\n",
    "We would like to compute the sum of the weight vectors,\n",
    "\\begin{align*}\n",
    "\\sum_t^T \\theta_t = & \\sum_t^T \\sum_{t' \\leq t} \\delta_{t'} = T \\delta_0 + (T-1) \\delta_1 + (T - 2) \\delta_2 + \\ldots + \\delta_T \\\\ \n",
    "= & \\sum_t^T (T - t) \\delta_t\\\\\n",
    "= & T \\sum_t^T \\delta_t - \\sum_t^T t \\delta_t \\\\\n",
    "= & T \\theta_t - \\sum_t^T t \\delta_t \\\\\n",
    "\\frac{1}{T} \\sum_t^T \\theta_t = & \\theta_T - \\frac{1}{T} \\sum_t^T t \\delta_t\n",
    "\\end{align*}\n",
    "\n",
    "This means we need to keep another running sum, $\\sum_t^T t \\delta_t$, the sum of scaled updates. \n",
    "To compute the average, we divide by the number of updates $T$ and subtract it from the current weight vector.\n",
    "\n",
    "**Deliverable 4.3**\n",
    "\n",
    "Implement ```estimate_average_perceptron``` in ```perceptron.py```. (1 point)"
   ]
  },
  {
   "cell_type": "code",
   "execution_count": 311,
   "metadata": {
    "collapsed": false
   },
   "outputs": [],
   "source": [
    "reload(perceptron);"
   ]
  },
  {
   "cell_type": "code",
   "execution_count": 312,
   "metadata": {
    "collapsed": false
   },
   "outputs": [
    {
     "name": "stdout",
     "output_type": "stream",
     "text": [
      "3.22580645161\n",
      "0.0\n",
      "0.870967741935\n"
     ]
    }
   ],
   "source": [
    "theta_avp,theta_avp_history = perceptron.estimate_avg_perceptron(x_tr[:10],y_tr[:10],3)\n",
    "\n",
    "print theta_avp[('science','what')]\n",
    "print theta_avp[('science','its')]\n",
    "print theta_avp[('worldnews','its')]\n"
   ]
  },
  {
   "cell_type": "code",
   "execution_count": 313,
   "metadata": {
    "collapsed": false
   },
   "outputs": [
    {
     "name": "stdout",
     "output_type": "stream",
     "text": [
      "1 loop, best of 3: 33 s per loop\n"
     ]
    }
   ],
   "source": [
    "%%timeit\n",
    "theta_avp,theta_avp_history = perceptron.estimate_avg_perceptron(x_tr,y_tr,20)"
   ]
  },
  {
   "cell_type": "code",
   "execution_count": 314,
   "metadata": {
    "collapsed": false
   },
   "outputs": [],
   "source": [
    "theta_avp,theta_avp_history = perceptron.estimate_avg_perceptron(x_tr,y_tr,50)"
   ]
  },
  {
   "cell_type": "code",
   "execution_count": 315,
   "metadata": {
    "collapsed": false
   },
   "outputs": [
    {
     "name": "stdout",
     "output_type": "stream",
     "text": [
      "0.664\n"
     ]
    }
   ],
   "source": [
    "y_hat = clf_base.predict_all(x_dv,theta_avp,labels)\n",
    "print evaluation.acc(y_hat,y_dv)"
   ]
  },
  {
   "cell_type": "code",
   "execution_count": 316,
   "metadata": {
    "collapsed": false
   },
   "outputs": [
    {
     "data": {
      "image/png": "[encoded data removed]",
      "text/plain": [
       "<matplotlib.figure.Figure at 0x114e29950>"
      ]
     },
     "metadata": {},
     "output_type": "display_data"
    }
   ],
   "source": [
    "plot_accs(theta_avp_history);"
   ]
  },
  {
   "cell_type": "code",
   "execution_count": 317,
   "metadata": {
    "collapsed": false
   },
   "outputs": [],
   "source": [
    "# execute this code to write the predictions on the dev and training data\n",
    "y_hat_dv = clf_base.predict_all(x_dv,theta_avp,labels)\n",
    "evaluation.write_predictions(y_hat_dv,'avp-dev.preds')\n",
    "y_hat_te = clf_base.predict_all(x_te,theta_avp,labels)\n",
    "evaluation.write_predictions(y_hat_te,'avp-test.preds')"
   ]
  },
  {
   "cell_type": "code",
   "execution_count": 318,
   "metadata": {
    "collapsed": false
   },
   "outputs": [
    {
     "data": {
      "text/plain": [
       "0.0"
      ]
     },
     "execution_count": 318,
     "metadata": {},
     "output_type": "execute_result"
    }
   ],
   "source": [
    "evaluation.acc(y_hat_te,y_te)"
   ]
  },
  {
   "cell_type": "markdown",
   "metadata": {},
   "source": [
    "# 5. Logistic regression\n",
    "\n",
    "Total: 2 points"
   ]
  },
  {
   "cell_type": "markdown",
   "metadata": {},
   "source": [
    "**Deliverable 5.1** Write a function to compute the conditional probability,\n",
    "\\begin{equation}\n",
    "p(y \\mid x; \\theta) = \\frac{\\exp(\\theta^{\\top} f(x,y))}{\\sum_{y'}\\exp(\\theta^{\\top} f(x,y'))}\n",
    "\\end{equation}\n",
    "\n",
    "Implement this in ```compute_py``` in ```logreg.py```. You should use your ```predict``` function from ```clf_base.py```.\n",
    "\n",
    "(0.5 points)"
   ]
  },
  {
   "cell_type": "code",
   "execution_count": 363,
   "metadata": {
    "collapsed": false
   },
   "outputs": [],
   "source": [
    "from gtnlplib import logreg\n",
    "reload(logreg);"
   ]
  },
  {
   "cell_type": "code",
   "execution_count": 343,
   "metadata": {
    "collapsed": false
   },
   "outputs": [
    {
     "data": {
      "text/plain": [
       "{u'askreddit': 0.19587982773688248,\n",
       " u'iama': 0.21648068905247012,\n",
       " u'science': 0.19587982773688248,\n",
       " u'todayilearned': 0.19587982773688248,\n",
       " u'worldnews': 0.19587982773688248}"
      ]
     },
     "execution_count": 343,
     "metadata": {},
     "output_type": "execute_result"
    }
   ],
   "source": [
    "logreg.compute_py({'i':1,'am':2},theta_hand,labels)"
   ]
  },
  {
   "cell_type": "code",
   "execution_count": 344,
   "metadata": {
    "collapsed": false,
    "scrolled": true
   },
   "outputs": [
    {
     "data": {
      "text/plain": [
       "{u'askreddit': 0.11707223997893114,\n",
       " u'iama': 0.12938483493868785,\n",
       " u'science': 0.31823534255172503,\n",
       " u'todayilearned': 0.11707223997893114,\n",
       " u'worldnews': 0.31823534255172503}"
      ]
     },
     "execution_count": 344,
     "metadata": {},
     "output_type": "execute_result"
    }
   ],
   "source": [
    "logreg.compute_py({'i':1,'news':2,'science':1},theta_hand,labels)"
   ]
  },
  {
   "cell_type": "markdown",
   "metadata": {},
   "source": [
    "**Deliverable 5.2** Complete the function ```estimate_logreg``` in ```logreg.py```. (1 point)"
   ]
  },
  {
   "cell_type": "code",
   "execution_count": 364,
   "metadata": {
    "collapsed": false
   },
   "outputs": [
    {
     "name": "stdout",
     "output_type": "stream",
     "text": [
      "0 1 2 0.000402050231375\n",
      "-0.000318322857592\n",
      "0.000452981860509\n",
      "0.0\n"
     ]
    }
   ],
   "source": [
    "# train on the first ten instances\n",
    "theta_lr,theta_lr_hist = logreg.estimate_logreg(x_tr[:10],y_tr[:10],3)\n",
    "print theta_lr[('science','what')]\n",
    "print theta_lr[('iama', 'missile')]\n",
    "print theta_lr[('iama',constants.OFFSET)]\n",
    "print theta_lr[('askreddit',constants.OFFSET)]"
   ]
  },
  {
   "cell_type": "code",
   "execution_count": 365,
   "metadata": {
    "collapsed": false
   },
   "outputs": [
    {
     "name": "stdout",
     "output_type": "stream",
     "text": [
      "0 1 2 3 4 5 6 7 8 9 10 11 12 13 14 15 16 17 18 19\n"
     ]
    }
   ],
   "source": [
    "# this takes approximately 2 minutes to execute on my laptop\n",
    "theta_lr,theta_lr_hist = logreg.estimate_logreg(x_tr,y_tr,20)"
   ]
  },
  {
   "cell_type": "code",
   "execution_count": 366,
   "metadata": {
    "collapsed": false
   },
   "outputs": [
    {
     "name": "stdout",
     "output_type": "stream",
     "text": [
      "0.604\n"
     ]
    }
   ],
   "source": [
    "y_hat = clf_base.predict_all(x_dv,theta_lr,labels)\n",
    "evaluation.write_predictions(y_hat,'lr-dev.preds')\n",
    "print evaluation.acc(y_hat,y_dv)"
   ]
  },
  {
   "cell_type": "code",
   "execution_count": 367,
   "metadata": {
    "collapsed": true
   },
   "outputs": [],
   "source": [
    "y_hat_te = clf_base.predict_all(x_te,theta_lr,labels)\n",
    "evaluation.write_predictions(y_hat_te,'lr-test.preds')"
   ]
  },
  {
   "cell_type": "code",
   "execution_count": 368,
   "metadata": {
    "collapsed": false
   },
   "outputs": [
    {
     "name": "stdout",
     "output_type": "stream",
     "text": [
      "0.0\n"
     ]
    }
   ],
   "source": [
    "print evaluation.acc(y_hat_te,y_te)"
   ]
  },
  {
   "cell_type": "code",
   "execution_count": 369,
   "metadata": {
    "collapsed": false
   },
   "outputs": [
    {
     "data": {
      "image/png": "[encoded data removed]",
      "text/plain": [
       "<matplotlib.figure.Figure at 0x1121e2750>"
      ]
     },
     "metadata": {},
     "output_type": "display_data"
    }
   ],
   "source": [
    "plot_accs(theta_lr_hist);"
   ]
  },
  {
   "cell_type": "markdown",
   "metadata": {},
   "source": [
    "The figure suggests that you can get higher accuracy by training for longer."
   ]
  },
  {
   "cell_type": "markdown",
   "metadata": {},
   "source": [
    "**Deliverable 5.3** \n",
    "\n",
    "\n",
    "- Try to improve on the performance that you get with the default hyperparameters.\n",
    "- Specifically, try different values for regularization, learning rate, and number of iterations\n",
    "- Because training is somewhat slow, you will have to be careful in how you do this.\n",
    "- Write the predictions of your best models to ```lr-best-dev.preds``` and ```lr-best-test.preds```.\n",
    "- You should be able to get at least 66% accuracy on the dev set.\n",
    "- As you try different configurations **save the weights** for each configuration separately. This will help you with problem 6.2.\n",
    "\n",
    "(0.5 points)\n"
   ]
  },
  {
   "cell_type": "code",
   "execution_count": 375,
   "metadata": {
    "collapsed": false
   },
   "outputs": [
    {
     "name": "stdout",
     "output_type": "stream",
     "text": [
      "learning rate:  1e-05\n",
      "regularizer:  0.001\n",
      "0 1 2 3 4 5 6 7 8 9 10 11 12 13 14 15 16 17 18 19 \n",
      "accuracy:  0.48\n",
      "learning rate:  1e-05\n",
      "regularizer:  0.01\n",
      "0 1 2 3 4 5 6 7 8 9 10 11 12 13 14 15 16 17 18 19 \n",
      "accuracy:  0.48\n",
      "learning rate:  1e-05\n",
      "regularizer:  0.1\n",
      "0 1 2 3 4 5 6 7 8 9 10 11 12 13 14 15 16 17 18 19 \n",
      "accuracy:  0.474\n",
      "learning rate:  0.0001\n",
      "regularizer:  0.001\n",
      "0 1 2 3 4 5 6 7 8 9 10 11 12 13 14 15 16 17 18 19 \n",
      "accuracy:  0.604\n",
      "learning rate:  0.0001\n",
      "regularizer:  0.01\n",
      "0 1 2 3 4 5 6 7 8 9 10 11 12 13 14 15 16 17 18 19 \n",
      "accuracy:  0.604\n",
      "learning rate:  0.0001\n",
      "regularizer:  0.1\n",
      "0 1 2 3 4 5 6 7 8 9 10 11 12 13 14 15 16 17 18 19 \n",
      "accuracy:  0.59\n",
      "learning rate:  0.001\n",
      "regularizer:  0.001\n",
      "0 1 2 3 4 5 6 7 8 9 10 11 12 13 14 15 16 17 18 19 \n",
      "accuracy:  0.686\n",
      "learning rate:  0.001\n",
      "regularizer:  0.01\n",
      "0 1 2 3 4 5 6 7 8 9 10 11 12 13 14 15 16 17 18 19 \n",
      "accuracy:  0.688\n",
      "learning rate:  0.001\n",
      "regularizer:  0.1\n",
      "0 1 2 3 4 5 6 7 8 9 10 11 12 13 14 15 16 17 18 19 \n",
      "accuracy:  0.596\n",
      "learning rate:  0.01\n",
      "regularizer:  0.001\n",
      "0 1 2 3 4 5 6 7 8 9 10 11 12 13 14 15 16 17 18 19 \n",
      "accuracy:  0.684\n",
      "learning rate:  0.01\n",
      "regularizer:  0.01\n",
      "0 1 2 3 4 5 6 7 8 9 10 11 12 13 14 15 16 17 18 19 \n",
      "accuracy:  0.594\n",
      "learning rate:  0.01\n",
      "regularizer:  0.1\n",
      "0 1 2 3 4 5 6 7 8 9 10 11 12 13 14 15 16 17 18 19 \n",
      "accuracy:  0.374\n"
     ]
    }
   ],
   "source": [
    "import pickle\n",
    "\n",
    "for lr in [1e-5, 1e-4, 1e-3, 1e-2]:\n",
    "    for reg in [1e-3, 1e-2, 1e-1]:\n",
    "        print \"learning rate: \", lr\n",
    "        print \"regularizer: \", reg\n",
    "        theta_lr_best,theta_lr_hist_best = logreg.estimate_logreg(x_tr,y_tr,20,lr,reg) #add your hyperparameters\n",
    "        with open('log_reg_'+str(lr)+\"_\"+str(reg), 'wb') as fp:\n",
    "            pickle.dump(theta_lr_best, fp)\n",
    "        y_hat = clf_base.predict_all(x_dv,theta_lr_best,labels)\n",
    "        evaluation.write_predictions(y_hat,'lr-best-dev'+'_'+str(lr)+'_'+str(reg)+'.preds')\n",
    "        y_hat_dv = evaluation.read_predictions('lr-best-dev'+'_'+str(lr)+'_'+str(reg)+'.preds')\n",
    "        print \"\"\n",
    "        print \"accuracy: \", evaluation.acc(y_hat_dv,y_dv)"
   ]
  },
  {
   "cell_type": "code",
   "execution_count": 214,
   "metadata": {
    "collapsed": false
   },
   "outputs": [
    {
     "data": {
      "image/png": "[encoded data removed]",
      "text/plain": [
       "<matplotlib.figure.Figure at 0x7f5b38026410>"
      ]
     },
     "metadata": {},
     "output_type": "display_data"
    }
   ],
   "source": [
    "plot_accs(theta_lr_best);"
   ]
  },
  {
   "cell_type": "code",
   "execution_count": 376,
   "metadata": {
    "collapsed": false
   },
   "outputs": [
    {
     "name": "stdout",
     "output_type": "stream",
     "text": [
      "0 1 2 3 4 5 6 7 8 9 10 11 12 13 14 15 16 17 18 19\n"
     ]
    }
   ],
   "source": [
    "theta_lr_best,theta_lr_hist_best = logreg.estimate_logreg(x_tr,y_tr,20,0.001,0.01)#add your hyperparameters"
   ]
  },
  {
   "cell_type": "code",
   "execution_count": 378,
   "metadata": {
    "collapsed": false
   },
   "outputs": [
    {
     "data": {
      "image/png": "[encoded data removed]",
      "text/plain": [
       "<matplotlib.figure.Figure at 0x1061b1950>"
      ]
     },
     "metadata": {},
     "output_type": "display_data"
    }
   ],
   "source": [
    "plot_accs(theta_lr_hist_best);"
   ]
  },
  {
   "cell_type": "code",
   "execution_count": 379,
   "metadata": {
    "collapsed": false
   },
   "outputs": [],
   "source": [
    "y_hat = clf_base.predict_all(x_dv,theta_lr_best,labels)\n",
    "evaluation.write_predictions(y_hat,'lr-best-dev.preds')\n",
    "y_hat_te = clf_base.predict_all(x_te,theta_lr_best,labels)\n",
    "evaluation.write_predictions(y_hat_te,'lr-best-test.preds')"
   ]
  },
  {
   "cell_type": "code",
   "execution_count": 380,
   "metadata": {
    "collapsed": false
   },
   "outputs": [
    {
     "name": "stdout",
     "output_type": "stream",
     "text": [
      "0.688\n"
     ]
    }
   ],
   "source": [
    "# here are the scores for some weights that i got\n",
    "y_hat_dv = evaluation.read_predictions('lr-best-dev.preds')\n",
    "print evaluation.acc(y_hat_dv,y_dv)"
   ]
  },
  {
   "cell_type": "code",
   "execution_count": 381,
   "metadata": {
    "collapsed": false
   },
   "outputs": [
    {
     "name": "stdout",
     "output_type": "stream",
     "text": [
      "0.0\n"
     ]
    }
   ],
   "source": [
    "y_hat_te = evaluation.read_predictions('lr-best-test.preds')\n",
    "print evaluation.acc(y_hat_te,y_te)"
   ]
  },
  {
   "cell_type": "markdown",
   "metadata": {},
   "source": [
    "# 6. Feature analysis\n",
    "\n",
    "1 points for 4650; 0.5 point for 7650\n",
    "\n",
    "** Deliverable 6.1**\n",
    "\n",
    "Implement ```get_top_features_for_label``` in ```clf_base.py```. (0.5 points for 4650 / .25 points for 7650)"
   ]
  },
  {
   "cell_type": "code",
   "execution_count": 414,
   "metadata": {
    "collapsed": true
   },
   "outputs": [],
   "source": [
    "reload(clf_base);"
   ]
  },
  {
   "cell_type": "code",
   "execution_count": 415,
   "metadata": {
    "collapsed": false
   },
   "outputs": [
    {
     "data": {
      "text/plain": [
       "[(('science', u'research'), 0.37718406423828876),\n",
       " (('science', u'study'), 0.32883054907523179),\n",
       " (('science', u'ebv'), 0.32778672989883689),\n",
       " (('science', u'corn'), 0.29078167280360734),\n",
       " (('science', u'evolution'), 0.26587625644456503)]"
      ]
     },
     "execution_count": 415,
     "metadata": {},
     "output_type": "execute_result"
    }
   ],
   "source": [
    "clf_base.get_top_features_for_label(theta_lr_best,'science',5)"
   ]
  },
  {
   "cell_type": "code",
   "execution_count": 416,
   "metadata": {
    "collapsed": false
   },
   "outputs": [
    {
     "data": {
      "text/plain": [
       "[(('worldnews', u'plane'), 0.37316057850335294),\n",
       " (('worldnews', u'russia'), 0.36525180827274756),\n",
       " (('worldnews', u'ukraine'), 0.36130239911860701),\n",
       " (('worldnews', u'ai'), 0.35995185481466735),\n",
       " (('worldnews', u'russian'), 0.34387654560799935)]"
      ]
     },
     "execution_count": 416,
     "metadata": {},
     "output_type": "execute_result"
    }
   ],
   "source": [
    "clf_base.get_top_features_for_label(theta_lr_best,'worldnews',5)"
   ]
  },
  {
   "cell_type": "code",
   "execution_count": 491,
   "metadata": {
    "collapsed": false
   },
   "outputs": [
    {
     "name": "stdout",
     "output_type": "stream",
     "text": [
      "[(('askreddit', 'askreddit'), 1.0), (('askreddit', 'ask'), 0.5)]\n",
      "2\n"
     ]
    }
   ],
   "source": [
    "print clf_base.get_top_features_for_label(hand_weights.theta_hand_original,'askreddit',3)\n",
    "print len(out)"
   ]
  },
  {
   "cell_type": "markdown",
   "metadata": {},
   "source": [
    "**Deliverable 6.2**\n",
    "\n",
    "- Now compare the top 5 features and weights for logistic regression under the largest regularizer and smallest regularizer that you tried in problem 5.3. \n",
    "- Paste the output into ```text_answers.md```, and explain the difference.\n",
    "- You cannot get full credit if your logistic regression classifier is not implemented correctly, so make sure you pass the units tests for part 5 before starting this.\n",
    "- 0.5 points for 4650 / 0.25 points for 7650. "
   ]
  },
  {
   "cell_type": "markdown",
   "metadata": {},
   "source": [
    "Large Regularizer (Regularizer=0.1)"
   ]
  },
  {
   "cell_type": "code",
   "execution_count": 465,
   "metadata": {
    "collapsed": false
   },
   "outputs": [],
   "source": [
    "#largest regularizer\n",
    "import pickle\n",
    "\n",
    "with open('log_reg_0.001_0.1', 'rb') as fp:\n",
    "    weight_l = pickle.load(fp)"
   ]
  },
  {
   "cell_type": "code",
   "execution_count": 469,
   "metadata": {
    "collapsed": false
   },
   "outputs": [
    {
     "data": {
      "text/plain": [
       "[(('askreddit', u'i'), 0.088961505841644473),\n",
       " (('askreddit', u'*'), 0.087778213724286069),\n",
       " (('askreddit', u'my'), 0.0866605857511695),\n",
       " (('askreddit', u'try'), 0.084577422169273414),\n",
       " (('askreddit', u'one'), 0.075848206421384359)]"
      ]
     },
     "execution_count": 469,
     "metadata": {},
     "output_type": "execute_result"
    }
   ],
   "source": [
    "clf_base.get_top_features_for_label(weight_l,'askreddit',5)"
   ]
  },
  {
   "cell_type": "code",
   "execution_count": 470,
   "metadata": {
    "collapsed": false
   },
   "outputs": [
    {
     "data": {
      "text/plain": [
       "[(('iama', u'!'), 0.16898472830698061),\n",
       " (('iama', u'you'), 0.10546534190202483),\n",
       " (('iama', u'your'), 0.095776655963550214),\n",
       " (('iama', u'have'), 0.09000620018279383),\n",
       " (('iama', u'i'), 0.086063671177918133)]"
      ]
     },
     "execution_count": 470,
     "metadata": {},
     "output_type": "execute_result"
    }
   ],
   "source": [
    "clf_base.get_top_features_for_label(weight_l,'iama',5)"
   ]
  },
  {
   "cell_type": "code",
   "execution_count": 471,
   "metadata": {
    "collapsed": false
   },
   "outputs": [
    {
     "data": {
      "text/plain": [
       "[(('science', u'research'), 0.12431384694321616),\n",
       " (('science', u'corn'), 0.11254035719235519),\n",
       " (('science', u'ebv'), 0.11229202408175364),\n",
       " (('science', u'study'), 0.10982158938245543),\n",
       " (('science', u'is'), 0.094087800788506634)]"
      ]
     },
     "execution_count": 471,
     "metadata": {},
     "output_type": "execute_result"
    }
   ],
   "source": [
    "clf_base.get_top_features_for_label(weight_l,'science',5)"
   ]
  },
  {
   "cell_type": "code",
   "execution_count": 472,
   "metadata": {
    "collapsed": false
   },
   "outputs": [
    {
     "data": {
      "text/plain": [
       "[(('todayilearned', u'hr'), 0.093857208658372687),\n",
       " (('todayilearned', u\"''\"), 0.072919564311548779),\n",
       " (('todayilearned', u'``'), 0.068744482648718616),\n",
       " (('todayilearned', u'apple'), 0.068482711568224858),\n",
       " (('todayilearned', u'latin'), 0.066550917948788674)]"
      ]
     },
     "execution_count": 472,
     "metadata": {},
     "output_type": "execute_result"
    }
   ],
   "source": [
    "clf_base.get_top_features_for_label(weight_l,'todayilearned',5)"
   ]
  },
  {
   "cell_type": "code",
   "execution_count": 473,
   "metadata": {
    "collapsed": false
   },
   "outputs": [
    {
     "data": {
      "text/plain": [
       "[(('worldnews', u'russia'), 0.15476399213681297),\n",
       " (('worldnews', u'ukraine'), 0.13964299314693124),\n",
       " (('worldnews', u'plane'), 0.12911999766875251),\n",
       " (('worldnews', u'russian'), 0.12526961259454791),\n",
       " (('worldnews', u'country'), 0.10933075343008158)]"
      ]
     },
     "execution_count": 473,
     "metadata": {},
     "output_type": "execute_result"
    }
   ],
   "source": [
    "clf_base.get_top_features_for_label(weight_l,'worldnews',5)"
   ]
  },
  {
   "cell_type": "markdown",
   "metadata": {},
   "source": [
    "Small Regularizer (Regularizer=0.001)"
   ]
  },
  {
   "cell_type": "code",
   "execution_count": 474,
   "metadata": {
    "collapsed": false
   },
   "outputs": [],
   "source": [
    "#smallest regularizer\n",
    "import pickle\n",
    "with open('log_reg_0.001_0.001', 'rb') as fp:\n",
    "    weight_s = pickle.load(fp)"
   ]
  },
  {
   "cell_type": "code",
   "execution_count": 480,
   "metadata": {
    "collapsed": false
   },
   "outputs": [
    {
     "data": {
      "text/plain": [
       "[(('askreddit', u'porn'), 0.34799680648858966),\n",
       " (('askreddit', u'one'), 0.2485501764141104),\n",
       " (('askreddit', u'go'), 0.23082932503487605),\n",
       " (('askreddit', u'some'), 0.2301048312908143),\n",
       " (('askreddit', u'night'), 0.2253005918236477)]"
      ]
     },
     "execution_count": 480,
     "metadata": {},
     "output_type": "execute_result"
    }
   ],
   "source": [
    "clf_base.get_top_features_for_label(weight_s,'askreddit',5)"
   ]
  },
  {
   "cell_type": "code",
   "execution_count": 481,
   "metadata": {
    "collapsed": false
   },
   "outputs": [
    {
     "data": {
      "text/plain": [
       "[(('iama', u'gun'), 0.33696902562567216),\n",
       " (('iama', u'thanks'), 0.31954400917433984),\n",
       " (('iama', u'state'), 0.31761553795395364),\n",
       " (('iama', u'marijuana'), 0.3162562386667061),\n",
       " (('iama', u'request'), 0.28500432396537245)]"
      ]
     },
     "execution_count": 481,
     "metadata": {},
     "output_type": "execute_result"
    }
   ],
   "source": [
    "clf_base.get_top_features_for_label(weight_s,'iama',5)"
   ]
  },
  {
   "cell_type": "code",
   "execution_count": 482,
   "metadata": {
    "collapsed": false
   },
   "outputs": [
    {
     "data": {
      "text/plain": [
       "[(('science', u'research'), 0.48290199629576952),\n",
       " (('science', u'ebv'), 0.42777721503669985),\n",
       " (('science', u'study'), 0.41862862740727863),\n",
       " (('science', u'corn'), 0.36953963758378044),\n",
       " (('science', u'evolution'), 0.35148099439328495)]"
      ]
     },
     "execution_count": 482,
     "metadata": {},
     "output_type": "execute_result"
    }
   ],
   "source": [
    "clf_base.get_top_features_for_label(weight_s,'science',5)"
   ]
  },
  {
   "cell_type": "code",
   "execution_count": 483,
   "metadata": {
    "collapsed": false
   },
   "outputs": [
    {
     "data": {
      "text/plain": [
       "[(('todayilearned', u'hr'), 0.41457759327420785),\n",
       " (('todayilearned', u'latin'), 0.32981578324903454),\n",
       " (('todayilearned', u'apple'), 0.32956401901651472),\n",
       " (('todayilearned', u'bear'), 0.26956251940022802),\n",
       " (('todayilearned', u'ancient'), 0.2236855005232293)]"
      ]
     },
     "execution_count": 483,
     "metadata": {},
     "output_type": "execute_result"
    }
   ],
   "source": [
    "clf_base.get_top_features_for_label(weight_s,'todayilearned',5)"
   ]
  },
  {
   "cell_type": "code",
   "execution_count": 484,
   "metadata": {
    "collapsed": false
   },
   "outputs": [
    {
     "data": {
      "text/plain": [
       "[(('worldnews', u'plane'), 0.48217567224661223),\n",
       " (('worldnews', u'ai'), 0.47610167916948659),\n",
       " (('worldnews', u'ukraine'), 0.47523218675253631),\n",
       " (('worldnews', u'russia'), 0.47368855068981031),\n",
       " (('worldnews', u'russian'), 0.44861073019563846)]"
      ]
     },
     "execution_count": 484,
     "metadata": {},
     "output_type": "execute_result"
    }
   ],
   "source": [
    "clf_base.get_top_features_for_label(weight_s,'worldnews',5)"
   ]
  },
  {
   "cell_type": "markdown",
   "metadata": {},
   "source": [
    "# 7. Better preprocessing\n",
    "\n",
    "Total: 1 points for CS 4650; 0.5 points for CS 7650.\n",
    "\n",
    "Now try to make some changes to the preprocessing code to improve the performance of these classifiers.\n",
    "\n",
    "**Deliverable 7.1** \n",
    "\n",
    "- Write the function ```custom_preproc``` in ```preproc.py```\n",
    "- Then load the data using the code below\n",
    "- Choose one of the classifiers, train it on this new data, and print out the predictions on the test set and dev, using the code block below that.\n",
    "\n",
    "Full credit for doing something interesting, +1 points for beating my best test set score. (0.75 point for 4650 / 0.25 points for 7650)"
   ]
  },
  {
   "cell_type": "code",
   "execution_count": 523,
   "metadata": {
    "collapsed": false
   },
   "outputs": [],
   "source": [
    "reload(preproc);"
   ]
  },
  {
   "cell_type": "code",
   "execution_count": 524,
   "metadata": {
    "collapsed": false
   },
   "outputs": [],
   "source": [
    "y_tr_bake,x_tr_bake = preproc.read_data('reddit-train.csv', #filename\n",
    "                                    'subreddit', #label field\n",
    "                                    preprocessor=preproc.custom_preproc) #your preprocessor\n",
    "y_dv_bake,x_dv_bake = preproc.read_data('reddit-dev.csv', #filename\n",
    "                                    'subreddit', #label field\n",
    "                                    preprocessor=preproc.custom_preproc) #your preprocessor\n",
    "y_te_bake,x_te_bake = preproc.read_data('reddit-test.csv', #filename\n",
    "                                    'subreddit', #label field\n",
    "                                    preprocessor=preproc.custom_preproc) #your preprocessor"
   ]
  },
  {
   "cell_type": "code",
   "execution_count": 525,
   "metadata": {
    "collapsed": true
   },
   "outputs": [],
   "source": [
    "# use this block to train your classifier on the new data.\n",
    "# you don't have to use Naive Bayes!\n",
    "theta_nb = naive_bayes.estimate_nb(x_tr_bake,y_tr_bake,smoothing=1e-2)"
   ]
  },
  {
   "cell_type": "code",
   "execution_count": 526,
   "metadata": {
    "collapsed": false
   },
   "outputs": [],
   "source": [
    "y_hat_dv_bake = clf_base.predict_all(x_dv_bake,theta_nb,labels)\n",
    "evaluation.write_predictions(y_hat_dv_bake,'bakeoff-dev.preds')"
   ]
  },
  {
   "cell_type": "code",
   "execution_count": 527,
   "metadata": {
    "collapsed": false
   },
   "outputs": [
    {
     "data": {
      "text/plain": [
       "0.77600000000000002"
      ]
     },
     "execution_count": 527,
     "metadata": {},
     "output_type": "execute_result"
    }
   ],
   "source": [
    "# Here's how well my preprocessed features do on the dev set\n",
    "evaluation.acc(y_hat_dv_bake,y_dv_bake)"
   ]
  },
  {
   "cell_type": "code",
   "execution_count": 528,
   "metadata": {
    "collapsed": true
   },
   "outputs": [],
   "source": [
    "y_hat_te_bake = clf_base.predict_all(x_te_bake,theta_nb,labels)\n",
    "evaluation.write_predictions(y_hat_te_bake,'bakeoff-test.preds')"
   ]
  },
  {
   "cell_type": "code",
   "execution_count": 529,
   "metadata": {
    "collapsed": false,
    "scrolled": true
   },
   "outputs": [
    {
     "data": {
      "text/plain": [
       "0.0"
      ]
     },
     "execution_count": 529,
     "metadata": {},
     "output_type": "execute_result"
    }
   ],
   "source": [
    "# Here's how well my preprocessed features do on the test set\n",
    "evaluation.acc(y_hat_te_bake,y_te_bake)"
   ]
  },
  {
   "cell_type": "markdown",
   "metadata": {},
   "source": [
    "** Deliverable 7.2 **\n",
    "\n",
    "Explain your novel preprocessing code in ```text-answers.md```\n",
    "\n",
    "(0.25 points for 4650, 0.25 points for 7650)"
   ]
  },
  {
   "cell_type": "markdown",
   "metadata": {},
   "source": [
    "# 8. 7650 Research Question\n",
    "\n",
    "(1 point.) CS 4650 students may do this component if they want; if they do, then the assignment will be graded as if they are in 7650. This is optional for CS4650 students, but if you submit something for this part, that is how you will be scored -- we're not taking the max over the two possible scoring options. CS 7650 students must do this part.\n",
    "\n",
    "You will select a recent research paper that performs *document* classification, using text. Summarize the paper, answering the following questions:\n",
    "\n",
    "- What are the labels, and how were they obtained?\n",
    "- Why is it interesting/useful to predict these labels?  \n",
    "- What classifier(s) do they use, and the reasons behind their choice? Do they use linear classifiers like the ones in this problem set?\n",
    "- What features do they use? Explain any features outside the bag-of-words model, and why they used them.\n",
    "- What is the conclusion of the paper? Do they compare between classifiers, between feature sets, or on some other dimension? \n",
    "- Give a one-sentence summary of the message that they are trying to leave for the reader.\n",
    "\n",
    "Your selection of papers is determined by the last digit of your GTID.\n",
    "\n",
    "- Digits 0,1: choose from ACL 2016, AAAI 2016\n",
    "- Digits 2,3,4: choose from NAACL 2016, KDD 2016\n",
    "- Digits 5,6,7: choose from EMNLP 2016, ICWSM 2016\n",
    "- Digits 8,9: choose from ACL 2015, IJCAI 2016\n",
    "\n",
    "You must choose a paper in the main conference (not workshops). The paper must be at least four pages long. All papers from these conferences are available for free online."
   ]
  },
  {
   "cell_type": "code",
   "execution_count": null,
   "metadata": {
    "collapsed": true
   },
   "outputs": [],
   "source": []
  }
 ],
 "metadata": {
  "kernelspec": {
   "display_name": "Python 2",
   "language": "python",
   "name": "python2"
  },
  "language_info": {
   "codemirror_mode": {
    "name": "ipython",
    "version": 2
   },
   "file_extension": ".py",
   "mimetype": "text/x-python",
   "name": "python",
   "nbconvert_exporter": "python",
   "pygments_lexer": "ipython2",
   "version": "2.7.11"
  }
 },
 "nbformat": 4,
 "nbformat_minor": 1
}
